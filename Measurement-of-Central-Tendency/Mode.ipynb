{
 "cells": [
  {
   "cell_type": "markdown",
   "id": "e514ac83-806a-45fb-a124-40313380fbcb",
   "metadata": {},
   "source": [
    "# Mode \n",
    "## Defination\n",
    "##### In statistics, the **mode** is the value or number that appears most frequently in a set of data.For example, in the set {1, 2, 2, 3, 4}, the mode is 2 because it occurs more times than any other number."
   ]
  },
  {
   "cell_type": "code",
   "execution_count": 6,
   "id": "7aee34ba-7b50-4a1b-999f-876d6447111a",
   "metadata": {},
   "outputs": [
    {
     "name": "stdout",
     "output_type": "stream",
     "text": [
      "The mode is: 46\n"
     ]
    }
   ],
   "source": [
    "import statistics as sta\n",
    "\n",
    "data = [46,875,46,36,66]\n",
    "mod = sta.mode(data)\n",
    "\n",
    "print(\"The mode is:\",mod)"
   ]
  },
  {
   "cell_type": "markdown",
   "id": "9aea76ae-256c-4584-ba7a-d9dbb7fd1dfc",
   "metadata": {},
   "source": [
    "# Multimode"
   ]
  },
  {
   "cell_type": "code",
   "execution_count": 9,
   "id": "59f4d911-0b32-4ed8-81bc-34b57b781a6d",
   "metadata": {},
   "outputs": [
    {
     "name": "stdout",
     "output_type": "stream",
     "text": [
      "The mode is: [46, 86]\n"
     ]
    }
   ],
   "source": [
    "data = [46,46,86,86,66]\n",
    "mod = sta.multimode(data)\n",
    "\n",
    "print(\"The mode is:\",mod)"
   ]
  },
  {
   "cell_type": "markdown",
   "id": "1da1883d-e618-4c30-9ac3-68373a266a77",
   "metadata": {},
   "source": [
    "# Scipy library "
   ]
  },
  {
   "cell_type": "code",
   "execution_count": 7,
   "id": "b19da057-61e2-472d-9889-58afd5b261fe",
   "metadata": {},
   "outputs": [
    {
     "name": "stdout",
     "output_type": "stream",
     "text": [
      "This is mode: ModeResult(mode=29, count=3)\n"
     ]
    }
   ],
   "source": [
    "from scipy import stats\n",
    "\n",
    "data = [88,89,29,56,35,29,77,29,97]\n",
    "\n",
    "mode = stats.mode(data)\n",
    "print(\"This is mode:\",mode)"
   ]
  },
  {
   "cell_type": "code",
   "execution_count": null,
   "id": "739c259b-5547-488a-8dcb-9922e9c365b9",
   "metadata": {},
   "outputs": [],
   "source": []
  }
 ],
 "metadata": {
  "kernelspec": {
   "display_name": "Python 3 (ipykernel)",
   "language": "python",
   "name": "python3"
  },
  "language_info": {
   "codemirror_mode": {
    "name": "ipython",
    "version": 3
   },
   "file_extension": ".py",
   "mimetype": "text/x-python",
   "name": "python",
   "nbconvert_exporter": "python",
   "pygments_lexer": "ipython3",
   "version": "3.12.7"
  }
 },
 "nbformat": 4,
 "nbformat_minor": 5
}

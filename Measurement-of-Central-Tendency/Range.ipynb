{
 "cells": [
  {
   "cell_type": "markdown",
   "id": "93039311-875d-4881-a87a-d7f4ee15d40a",
   "metadata": {},
   "source": [
    "# Range\n",
    "##### range is the difference between the highest and lowest values in a set of numbers.For example, in the list [10, 20, 30, 40], the range is:\n",
    "##### 40 - 10 = 30"
   ]
  },
  {
   "cell_type": "markdown",
   "id": "09e91321-07b1-4802-8357-025c7e0fea2c",
   "metadata": {},
   "source": [
    "# Why we use Range\n",
    "##### We use range to understand how spread out the numbers are in a dataset. It helps in:\n",
    "##### 1. Measuring Variability – It tells us the difference between the highest and lowest values.\n",
    "##### 2. Comparing Data – If one dataset has a larger range than another, it means the numbers are more spread out.\n",
    "##### 3. Identifying Outliers – A very large range may indicate extreme values (outliers) in the data."
   ]
  },
  {
   "cell_type": "markdown",
   "id": "8fe0a88f-3ba3-4bae-a801-9c61a62e1e62",
   "metadata": {},
   "source": [
    "# Method-1 Calculation of Range\n",
    "## UsingPython"
   ]
  },
  {
   "cell_type": "code",
   "execution_count": 17,
   "id": "397ae3fa-1722-4669-a362-22256b25c802",
   "metadata": {},
   "outputs": [
    {
     "name": "stdout",
     "output_type": "stream",
     "text": [
      "35\n"
     ]
    }
   ],
   "source": [
    "score = [66,78,89,54,63,78,76]\n",
    "score_range= max(score) - min(score)\n",
    "print(range)"
   ]
  },
  {
   "cell_type": "markdown",
   "id": "22d82f3b-430c-4d82-9d36-41b82e28deb1",
   "metadata": {},
   "source": [
    "# Method-2 Using numpy"
   ]
  },
  {
   "cell_type": "code",
   "execution_count": 18,
   "id": "85177cb4-7880-4750-919d-d2cb36ba58f6",
   "metadata": {},
   "outputs": [
    {
     "name": "stdout",
     "output_type": "stream",
     "text": [
      "35\n"
     ]
    }
   ],
   "source": [
    "import numpy as np\n",
    "\n",
    "score = [66, 78, 89, 54, 63, 78, 76]\n",
    "score_range = np.ptp(score)  \n",
    "print(score_range)  "
   ]
  }
 ],
 "metadata": {
  "kernelspec": {
   "display_name": "Python 3 (ipykernel)",
   "language": "python",
   "name": "python3"
  },
  "language_info": {
   "codemirror_mode": {
    "name": "ipython",
    "version": 3
   },
   "file_extension": ".py",
   "mimetype": "text/x-python",
   "name": "python",
   "nbconvert_exporter": "python",
   "pygments_lexer": "ipython3",
   "version": "3.12.7"
  }
 },
 "nbformat": 4,
 "nbformat_minor": 5
}

{
 "cells": [
  {
   "cell_type": "markdown",
   "id": "bbacebe7-cfdf-49fa-888f-f8ee9e0253bd",
   "metadata": {},
   "source": [
    "# Median\n",
    "## Defination\n",
    "#####  The median is a measure of central tendency that represents the middle value of a dataset when it is arranged in ascending or descending order. Unlike the mean, the median is not affected by outliers or skewed data, making it a more robust measure for datasets with extreme values."
   ]
  },
  {
   "cell_type": "markdown",
   "id": "4848aa59-d8b6-4229-9679-6a7a7f49ade1",
   "metadata": {},
   "source": [
    "# Method 1-Calculate Median"
   ]
  },
  {
   "cell_type": "code",
   "execution_count": 13,
   "id": "1ea9dc22-0599-4c32-b7d6-1b2664031857",
   "metadata": {},
   "outputs": [
    {
     "name": "stdout",
     "output_type": "stream",
     "text": [
      "The medium is: 61.5\n"
     ]
    }
   ],
   "source": [
    "import statistics as sta\n",
    "\n",
    "data = [56,67,87,21]\n",
    "var = sta.median(data)\n",
    "print(\"The medium is:\",var)"
   ]
  },
  {
   "cell_type": "markdown",
   "id": "e620ab92-710b-4f96-870f-d1fb8faddbaa",
   "metadata": {},
   "source": [
    "# Method 2-Using Numpy"
   ]
  },
  {
   "cell_type": "code",
   "execution_count": 15,
   "id": "73a9e2da-efb0-4eb6-947e-3d1aa359e74f",
   "metadata": {},
   "outputs": [
    {
     "name": "stdout",
     "output_type": "stream",
     "text": [
      "The medium is: 46.0\n"
     ]
    }
   ],
   "source": [
    "import numpy as np\n",
    "\n",
    "data = [43,46,76,98,45]\n",
    "val = np.median(data)\n",
    "print(\"The medium is:\", median)"
   ]
  },
  {
   "cell_type": "markdown",
   "id": "1c97447c-f3f9-4fce-99a3-30b8c7c8708b",
   "metadata": {},
   "source": [
    "# Method 3-Using Pandas"
   ]
  },
  {
   "cell_type": "code",
   "execution_count": 18,
   "id": "19bbbaa1-c18f-4e26-afcf-5e188f661f1a",
   "metadata": {},
   "outputs": [
    {
     "name": "stdout",
     "output_type": "stream",
     "text": [
      "   values\n",
      "0      65\n",
      "1      73\n",
      "2      84\n",
      "3      79\n",
      "4      25\n",
      "The median is: 73.0\n"
     ]
    }
   ],
   "source": [
    "import pandas as pd\n",
    "\n",
    "df = pd.DataFrame({\n",
    "    'values':[65,73,84,79,25]\n",
    "})\n",
    "print(df)\n",
    "\n",
    "pandas_median = df['values'].median()\n",
    "print(\"The median is:\",pandas_median)"
   ]
  },
  {
   "cell_type": "code",
   "execution_count": null,
   "id": "cb5ec9b2-c036-44ca-a5dd-0433f820e6f6",
   "metadata": {},
   "outputs": [],
   "source": []
  },
  {
   "cell_type": "code",
   "execution_count": null,
   "id": "52c787ff-2017-45b3-afe5-c026bbb96642",
   "metadata": {},
   "outputs": [],
   "source": []
  }
 ],
 "metadata": {
  "kernelspec": {
   "display_name": "Python 3 (ipykernel)",
   "language": "python",
   "name": "python3"
  },
  "language_info": {
   "codemirror_mode": {
    "name": "ipython",
    "version": 3
   },
   "file_extension": ".py",
   "mimetype": "text/x-python",
   "name": "python",
   "nbconvert_exporter": "python",
   "pygments_lexer": "ipython3",
   "version": "3.12.7"
  }
 },
 "nbformat": 4,
 "nbformat_minor": 5
}

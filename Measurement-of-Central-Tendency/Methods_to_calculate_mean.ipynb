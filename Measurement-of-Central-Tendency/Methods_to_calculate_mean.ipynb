{
 "cells": [
  {
   "cell_type": "markdown",
   "id": "4dc90ca9-131b-4b06-b509-b6ff3d92dfdd",
   "metadata": {},
   "source": [
    "# Calcultion of mean"
   ]
  },
  {
   "cell_type": "markdown",
   "id": "4002509e-e2f3-45b3-8f4f-e06811dad0f7",
   "metadata": {},
   "source": [
    "## Method no.1 Manual Calculation"
   ]
  },
  {
   "cell_type": "code",
   "execution_count": 11,
   "id": "ec6993d9-aba6-4932-a7f3-cd0e674e6bf9",
   "metadata": {},
   "outputs": [
    {
     "name": "stdout",
     "output_type": "stream",
     "text": [
      "population mean is: [355, 546, 7565, 255, 2354]\n",
      "sample mean is: [121, 98, 66, 59, 69, 44, 65, 85, 87]\n"
     ]
    }
   ],
   "source": [
    "population = [355,546,7565,255,2354]\n",
    "sample = [121,98,66,59,69,44,65,85,87]\n",
    "\n",
    "pop_mean =sum(population)/len(population)\n",
    "sam_mean = sum(sample)/len(sample)\n",
    "\n",
    "print(\"population mean is:\", population)\n",
    "print(\"sample mean is:\", sample)\n"
   ]
  },
  {
   "cell_type": "markdown",
   "id": "71881ebf-e3b3-4696-a5b8-1476141879bc",
   "metadata": {},
   "source": [
    "## 2. Using numpy"
   ]
  },
  {
   "cell_type": "code",
   "execution_count": 12,
   "id": "2ddec81b-f358-45fd-aca5-bff7e2213ef7",
   "metadata": {},
   "outputs": [
    {
     "name": "stdout",
     "output_type": "stream",
     "text": [
      "The mean is: 58.4\n"
     ]
    }
   ],
   "source": [
    "import numpy as np\n",
    "\n",
    "data = [65,76,53,54,44]\n",
    "arthimatic_mean = np.mean(data)\n",
    "print(\"The mean is:\",arthimatic_mean)"
   ]
  },
  {
   "cell_type": "markdown",
   "id": "45337d43-ccd7-433a-9ccb-f608008b4483",
   "metadata": {},
   "source": [
    "## 3.using statistics"
   ]
  },
  {
   "cell_type": "code",
   "execution_count": 13,
   "id": "df7a1b2d-82a5-404b-a9cc-14923858a04a",
   "metadata": {},
   "outputs": [
    {
     "name": "stdout",
     "output_type": "stream",
     "text": [
      "The mean is: 60.5\n"
     ]
    }
   ],
   "source": [
    "import statistics as sta\n",
    "\n",
    "var = [56,55,64,67]\n",
    "mean_sta = sta.mean(var)\n",
    "print(\"The mean is:\",mean_sta)"
   ]
  }
 ],
 "metadata": {
  "kernelspec": {
   "display_name": "Python 3 (ipykernel)",
   "language": "python",
   "name": "python3"
  },
  "language_info": {
   "codemirror_mode": {
    "name": "ipython",
    "version": 3
   },
   "file_extension": ".py",
   "mimetype": "text/x-python",
   "name": "python",
   "nbconvert_exporter": "python",
   "pygments_lexer": "ipython3",
   "version": "3.12.7"
  }
 },
 "nbformat": 4,
 "nbformat_minor": 5
}
